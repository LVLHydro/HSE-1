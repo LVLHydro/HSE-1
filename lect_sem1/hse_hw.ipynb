{
 "cells": [
  {
   "cell_type": "code",
   "execution_count": null,
   "id": "e4f88210",
   "metadata": {},
   "outputs": [],
   "source": []
  },
  {
   "cell_type": "code",
   "execution_count": null,
   "id": "0685ba01",
   "metadata": {},
   "outputs": [],
   "source": []
  },
  {
   "cell_type": "code",
   "execution_count": null,
   "id": "d6a1cc9b",
   "metadata": {},
   "outputs": [],
   "source": []
  },
  {
   "cell_type": "markdown",
   "id": "bb4e56c9",
   "metadata": {},
   "source": [
    "# Task 4"
   ]
  },
  {
   "cell_type": "markdown",
   "id": "38c64433",
   "metadata": {},
   "source": [
    "Исследуйте, как различные факторы влияют на красоту человека (красота измеряется по шкале от 1 до 5)."
   ]
  },
  {
   "cell_type": "code",
   "execution_count": 1,
   "id": "0e73cb61",
   "metadata": {
    "ExecuteTime": {
     "end_time": "2021-09-03T19:01:58.715748Z",
     "start_time": "2021-09-03T19:01:57.901699Z"
    }
   },
   "outputs": [],
   "source": [
    "import numpy as np\n",
    "import pandas as pd\n",
    "import seaborn as sns\n",
    "import matplotlib.pyplot as plt"
   ]
  },
  {
   "cell_type": "markdown",
   "id": "79247913",
   "metadata": {},
   "source": [
    "Загрузите файл beauty.csv.\n",
    "Столбец looks - это красота человека."
   ]
  },
  {
   "cell_type": "code",
   "execution_count": 2,
   "id": "d1492d00",
   "metadata": {
    "ExecuteTime": {
     "end_time": "2021-09-03T19:02:22.243447Z",
     "start_time": "2021-09-03T19:02:22.240252Z"
    }
   },
   "outputs": [],
   "source": [
    "#your code here\n",
    "df = ..."
   ]
  },
  {
   "cell_type": "code",
   "execution_count": null,
   "id": "68a25442",
   "metadata": {},
   "outputs": [],
   "source": [
    "\n",
    "df.head()"
   ]
  },
  {
   "cell_type": "markdown",
   "id": "41983073",
   "metadata": {},
   "source": [
    "Проведите однофакторный анализ\n",
    "А именно, исследуйте влияние каждого фактора в отдельности на красоту человека."
   ]
  },
  {
   "cell_type": "markdown",
   "id": "67a758b4",
   "metadata": {},
   "source": [
    "Машинное обучение\n",
    "Проверьте, что все категориальные признаки имеют ровно два значения. Переведите эти признаки в числовые следующим образом: одно значение (любое) замените на 0, а другое на 1.\n",
    "\n",
    "Разбейте данные на train и test.\n",
    "\n",
    "Обучите несколько алгоритмов классификации на полученных данных и выведите на экран качество (accuracy) каждого алгоритма на train и test."
   ]
  },
  {
   "cell_type": "code",
   "execution_count": 3,
   "id": "84fcbefd",
   "metadata": {
    "ExecuteTime": {
     "end_time": "2021-09-03T19:03:14.797270Z",
     "start_time": "2021-09-03T19:03:14.794663Z"
    }
   },
   "outputs": [],
   "source": [
    "#your code here"
   ]
  },
  {
   "cell_type": "markdown",
   "id": "972181bd",
   "metadata": {},
   "source": [
    "Алгоритмы, которые вы можете попробовать\n",
    "\n",
    "from sklearn.linear_model import LogisticRegression\n",
    "from sklearn.svm import LinearSVC\n",
    "from sklearn.tree import DecisionTreeClassifier\n",
    "from sklearn.ensemble import RandomForestClassifier\n",
    "\n",
    "model = LogisticRegression() #LinearSVC() и т.д."
   ]
  },
  {
   "cell_type": "markdown",
   "id": "d00b87a2",
   "metadata": {},
   "source": [
    "Сделайте выводы\n",
    "\n",
    "\n",
    "Какой или какие факторы сильнее всего влияют на красоту человека?\n",
    "\n",
    "Какой алгоритм сработал лучше всего?\n",
    "\n",
    "Какой алгоритм больше всего переобучился? (качество на test гораздо ниже, чем качество на train, при этом качество на train достаточно высокое; качество сильно меняется при различных разбиениях на train и test).\n"
   ]
  },
  {
   "cell_type": "code",
   "execution_count": 5,
   "id": "ee81ed79",
   "metadata": {
    "ExecuteTime": {
     "end_time": "2021-09-03T19:04:09.617044Z",
     "start_time": "2021-09-03T19:04:09.614010Z"
    }
   },
   "outputs": [],
   "source": [
    "#your text here"
   ]
  },
  {
   "cell_type": "code",
   "execution_count": null,
   "id": "28bcb965",
   "metadata": {},
   "outputs": [],
   "source": []
  }
 ],
 "metadata": {
  "kernelspec": {
   "display_name": "MTS",
   "language": "python",
   "name": "mts_library_recsys"
  },
  "language_info": {
   "codemirror_mode": {
    "name": "ipython",
    "version": 3
   },
   "file_extension": ".py",
   "mimetype": "text/x-python",
   "name": "python",
   "nbconvert_exporter": "python",
   "pygments_lexer": "ipython3",
   "version": "3.7.3"
  }
 },
 "nbformat": 4,
 "nbformat_minor": 5
}
