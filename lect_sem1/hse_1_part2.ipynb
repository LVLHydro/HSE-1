{
 "cells": [
  {
   "cell_type": "code",
   "execution_count": null,
   "id": "8d1210c1",
   "metadata": {},
   "outputs": [],
   "source": []
  },
  {
   "cell_type": "markdown",
   "id": "ba871530",
   "metadata": {},
   "source": [
    "про Jupyter Notebook: https://devpractice.ru/python-lesson-6-work-in-jupyter-notebook/"
   ]
  },
  {
   "cell_type": "markdown",
   "id": "aef0eee3",
   "metadata": {},
   "source": [
    "документация: http://www.numpy.org/"
   ]
  },
  {
   "cell_type": "markdown",
   "id": "c47621fa",
   "metadata": {},
   "source": [
    "Библиотека numpy является удобным инструментом для работы с многомерными массивами с возможностью векторизации вычислений. Рассмотрим базовые вещи, которые можно делать с помощью нее."
   ]
  },
  {
   "cell_type": "code",
   "execution_count": 1,
   "id": "1ec86326",
   "metadata": {
    "ExecuteTime": {
     "end_time": "2021-09-03T18:18:09.200316Z",
     "start_time": "2021-09-03T18:18:09.109359Z"
    }
   },
   "outputs": [],
   "source": [
    "import numpy as np"
   ]
  },
  {
   "cell_type": "code",
   "execution_count": 2,
   "id": "c29d8635",
   "metadata": {
    "ExecuteTime": {
     "end_time": "2021-09-03T18:18:17.049744Z",
     "start_time": "2021-09-03T18:18:17.047115Z"
    }
   },
   "outputs": [],
   "source": [
    "vec = np.array([[1, 2], [3, 4], [5, 6]])"
   ]
  },
  {
   "cell_type": "code",
   "execution_count": 3,
   "id": "43ce25a2",
   "metadata": {
    "ExecuteTime": {
     "end_time": "2021-09-03T18:18:22.949974Z",
     "start_time": "2021-09-03T18:18:22.942730Z"
    }
   },
   "outputs": [
    {
     "data": {
      "text/plain": [
       "array([[1, 2],\n",
       "       [3, 4],\n",
       "       [5, 6]])"
      ]
     },
     "execution_count": 3,
     "metadata": {},
     "output_type": "execute_result"
    }
   ],
   "source": [
    "vec"
   ]
  },
  {
   "cell_type": "markdown",
   "id": "5abc1964",
   "metadata": {},
   "source": [
    "С чем мы работаем?"
   ]
  },
  {
   "cell_type": "code",
   "execution_count": 4,
   "id": "b1b2e28b",
   "metadata": {
    "ExecuteTime": {
     "end_time": "2021-09-03T18:18:42.547710Z",
     "start_time": "2021-09-03T18:18:42.544156Z"
    }
   },
   "outputs": [
    {
     "data": {
      "text/plain": [
       "dtype('int64')"
      ]
     },
     "execution_count": 4,
     "metadata": {},
     "output_type": "execute_result"
    }
   ],
   "source": [
    "vec.dtype"
   ]
  },
  {
   "cell_type": "markdown",
   "id": "97838b75",
   "metadata": {},
   "source": [
    "Размер массива:"
   ]
  },
  {
   "cell_type": "code",
   "execution_count": 5,
   "id": "9c495820",
   "metadata": {
    "ExecuteTime": {
     "end_time": "2021-09-03T18:19:23.044913Z",
     "start_time": "2021-09-03T18:19:23.041751Z"
    }
   },
   "outputs": [
    {
     "data": {
      "text/plain": [
       "(3, 2)"
      ]
     },
     "execution_count": 5,
     "metadata": {},
     "output_type": "execute_result"
    }
   ],
   "source": [
    "vec.shape"
   ]
  },
  {
   "cell_type": "markdown",
   "id": "3b660be3",
   "metadata": {},
   "source": [
    "Число осей:"
   ]
  },
  {
   "cell_type": "code",
   "execution_count": 6,
   "id": "11716f2b",
   "metadata": {
    "ExecuteTime": {
     "end_time": "2021-09-03T18:19:44.448325Z",
     "start_time": "2021-09-03T18:19:44.444736Z"
    }
   },
   "outputs": [
    {
     "data": {
      "text/plain": [
       "2"
      ]
     },
     "execution_count": 6,
     "metadata": {},
     "output_type": "execute_result"
    }
   ],
   "source": [
    "vec.ndim"
   ]
  },
  {
   "cell_type": "markdown",
   "id": "7ec9ee6e",
   "metadata": {},
   "source": [
    "У некоторых функций бывает параметр axis, который позволяет применить эту функцию по разным осям - в данном случае, по строкам или столбцам:"
   ]
  },
  {
   "cell_type": "code",
   "execution_count": 7,
   "id": "5c52a016",
   "metadata": {
    "ExecuteTime": {
     "end_time": "2021-09-03T18:20:09.431370Z",
     "start_time": "2021-09-03T18:20:09.428153Z"
    }
   },
   "outputs": [
    {
     "data": {
      "text/plain": [
       "21"
      ]
     },
     "execution_count": 7,
     "metadata": {},
     "output_type": "execute_result"
    }
   ],
   "source": [
    "np.sum(vec)"
   ]
  },
  {
   "cell_type": "code",
   "execution_count": 8,
   "id": "ac4c3470",
   "metadata": {
    "ExecuteTime": {
     "end_time": "2021-09-03T18:20:18.119384Z",
     "start_time": "2021-09-03T18:20:18.116087Z"
    }
   },
   "outputs": [
    {
     "data": {
      "text/plain": [
       "array([ 9, 12])"
      ]
     },
     "execution_count": 8,
     "metadata": {},
     "output_type": "execute_result"
    }
   ],
   "source": [
    "np.sum(vec, axis=0)"
   ]
  },
  {
   "cell_type": "code",
   "execution_count": 9,
   "id": "16888070",
   "metadata": {
    "ExecuteTime": {
     "end_time": "2021-09-03T18:20:25.258810Z",
     "start_time": "2021-09-03T18:20:25.255429Z"
    }
   },
   "outputs": [
    {
     "data": {
      "text/plain": [
       "array([ 3,  7, 11])"
      ]
     },
     "execution_count": 9,
     "metadata": {},
     "output_type": "execute_result"
    }
   ],
   "source": [
    "np.sum(vec, axis=1)"
   ]
  },
  {
   "cell_type": "code",
   "execution_count": 10,
   "id": "71383a09",
   "metadata": {
    "ExecuteTime": {
     "end_time": "2021-09-03T18:20:34.597761Z",
     "start_time": "2021-09-03T18:20:34.594635Z"
    }
   },
   "outputs": [
    {
     "data": {
      "text/plain": [
       "21"
      ]
     },
     "execution_count": 10,
     "metadata": {},
     "output_type": "execute_result"
    }
   ],
   "source": [
    "vec.sum()"
   ]
  },
  {
   "cell_type": "markdown",
   "id": "c72cb65a",
   "metadata": {
    "ExecuteTime": {
     "end_time": "2021-09-03T18:20:43.325665Z",
     "start_time": "2021-09-03T18:20:43.322787Z"
    }
   },
   "source": [
    "Транспонируем массив:"
   ]
  },
  {
   "cell_type": "code",
   "execution_count": 12,
   "id": "afddedbd",
   "metadata": {
    "ExecuteTime": {
     "end_time": "2021-09-03T18:20:57.697771Z",
     "start_time": "2021-09-03T18:20:57.694355Z"
    }
   },
   "outputs": [
    {
     "data": {
      "text/plain": [
       "array([[1, 3, 5],\n",
       "       [2, 4, 6]])"
      ]
     },
     "execution_count": 12,
     "metadata": {},
     "output_type": "execute_result"
    }
   ],
   "source": [
    "vec.T"
   ]
  },
  {
   "cell_type": "code",
   "execution_count": 13,
   "id": "0f658842",
   "metadata": {
    "ExecuteTime": {
     "end_time": "2021-09-03T18:21:04.651749Z",
     "start_time": "2021-09-03T18:21:04.648575Z"
    }
   },
   "outputs": [
    {
     "data": {
      "text/plain": [
       "array([[1, 3, 5],\n",
       "       [2, 4, 6]])"
      ]
     },
     "execution_count": 13,
     "metadata": {},
     "output_type": "execute_result"
    }
   ],
   "source": [
    "vec.transpose()"
   ]
  },
  {
   "cell_type": "markdown",
   "id": "3c370397",
   "metadata": {},
   "source": [
    "Обратите внимание, что переменная vec не поменялась!"
   ]
  },
  {
   "cell_type": "code",
   "execution_count": 14,
   "id": "196a1909",
   "metadata": {
    "ExecuteTime": {
     "end_time": "2021-09-03T18:21:28.184258Z",
     "start_time": "2021-09-03T18:21:28.181177Z"
    }
   },
   "outputs": [
    {
     "data": {
      "text/plain": [
       "array([[1, 2],\n",
       "       [3, 4],\n",
       "       [5, 6]])"
      ]
     },
     "execution_count": 14,
     "metadata": {},
     "output_type": "execute_result"
    }
   ],
   "source": [
    "vec"
   ]
  },
  {
   "cell_type": "markdown",
   "id": "749a8282",
   "metadata": {},
   "source": [
    "Размеры массивов можно менять:"
   ]
  },
  {
   "cell_type": "code",
   "execution_count": 15,
   "id": "a1828ded",
   "metadata": {
    "ExecuteTime": {
     "end_time": "2021-09-03T18:21:49.998733Z",
     "start_time": "2021-09-03T18:21:49.995192Z"
    }
   },
   "outputs": [
    {
     "data": {
      "text/plain": [
       "array([[1, 2, 3],\n",
       "       [4, 5, 6]])"
      ]
     },
     "execution_count": 15,
     "metadata": {},
     "output_type": "execute_result"
    }
   ],
   "source": [
    "vec.reshape(2, 3)"
   ]
  },
  {
   "cell_type": "code",
   "execution_count": 16,
   "id": "b35660f0",
   "metadata": {
    "ExecuteTime": {
     "end_time": "2021-09-03T18:22:00.264913Z",
     "start_time": "2021-09-03T18:22:00.261544Z"
    }
   },
   "outputs": [
    {
     "data": {
      "text/plain": [
       "array([[1, 2, 3],\n",
       "       [4, 5, 6]])"
      ]
     },
     "execution_count": 16,
     "metadata": {},
     "output_type": "execute_result"
    }
   ],
   "source": [
    "vec.reshape(-1, 3)"
   ]
  },
  {
   "cell_type": "code",
   "execution_count": 17,
   "id": "f50aa107",
   "metadata": {
    "ExecuteTime": {
     "end_time": "2021-09-03T18:22:10.346544Z",
     "start_time": "2021-09-03T18:22:10.343151Z"
    }
   },
   "outputs": [
    {
     "data": {
      "text/plain": [
       "array([[1, 2, 3],\n",
       "       [4, 5, 6]])"
      ]
     },
     "execution_count": 17,
     "metadata": {},
     "output_type": "execute_result"
    }
   ],
   "source": [
    "vec.reshape(2, -1)"
   ]
  },
  {
   "cell_type": "markdown",
   "id": "caa9f7ce",
   "metadata": {},
   "source": [
    "Индексирование:"
   ]
  },
  {
   "cell_type": "code",
   "execution_count": 18,
   "id": "57631b23",
   "metadata": {
    "ExecuteTime": {
     "end_time": "2021-09-03T18:22:37.081532Z",
     "start_time": "2021-09-03T18:22:37.078226Z"
    }
   },
   "outputs": [
    {
     "data": {
      "text/plain": [
       "array([2, 4, 6])"
      ]
     },
     "execution_count": 18,
     "metadata": {},
     "output_type": "execute_result"
    }
   ],
   "source": [
    "vec[:, 1]"
   ]
  },
  {
   "cell_type": "code",
   "execution_count": 19,
   "id": "c93dab96",
   "metadata": {
    "ExecuteTime": {
     "end_time": "2021-09-03T18:22:46.459947Z",
     "start_time": "2021-09-03T18:22:46.456428Z"
    }
   },
   "outputs": [
    {
     "data": {
      "text/plain": [
       "array([5, 6])"
      ]
     },
     "execution_count": 19,
     "metadata": {},
     "output_type": "execute_result"
    }
   ],
   "source": [
    "vec[2, :]"
   ]
  },
  {
   "cell_type": "code",
   "execution_count": 20,
   "id": "7723a475",
   "metadata": {
    "ExecuteTime": {
     "end_time": "2021-09-03T18:22:56.280529Z",
     "start_time": "2021-09-03T18:22:56.277234Z"
    }
   },
   "outputs": [
    {
     "data": {
      "text/plain": [
       "array([3])"
      ]
     },
     "execution_count": 20,
     "metadata": {},
     "output_type": "execute_result"
    }
   ],
   "source": [
    "vec[1:2, 0]"
   ]
  },
  {
   "cell_type": "code",
   "execution_count": 21,
   "id": "9197880e",
   "metadata": {
    "ExecuteTime": {
     "end_time": "2021-09-03T18:23:07.228976Z",
     "start_time": "2021-09-03T18:23:07.225228Z"
    }
   },
   "outputs": [
    {
     "data": {
      "text/plain": [
       "array([[1, 2],\n",
       "       [5, 6]])"
      ]
     },
     "execution_count": 21,
     "metadata": {},
     "output_type": "execute_result"
    }
   ],
   "source": [
    "vec[::2, :]"
   ]
  },
  {
   "cell_type": "code",
   "execution_count": 22,
   "id": "3905ab2e",
   "metadata": {
    "ExecuteTime": {
     "end_time": "2021-09-03T18:23:15.778547Z",
     "start_time": "2021-09-03T18:23:15.775199Z"
    }
   },
   "outputs": [
    {
     "data": {
      "text/plain": [
       "array([2, 4, 6])"
      ]
     },
     "execution_count": 22,
     "metadata": {},
     "output_type": "execute_result"
    }
   ],
   "source": [
    "vec[vec % 2 == 0]"
   ]
  },
  {
   "cell_type": "markdown",
   "id": "ce73e414",
   "metadata": {},
   "source": [
    "Иногда бывает полезно создавать специфичные массивы. Массив из нулей:"
   ]
  },
  {
   "cell_type": "code",
   "execution_count": 23,
   "id": "15c83a48",
   "metadata": {
    "ExecuteTime": {
     "end_time": "2021-09-03T18:23:37.957011Z",
     "start_time": "2021-09-03T18:23:37.953398Z"
    }
   },
   "outputs": [
    {
     "data": {
      "text/plain": [
       "array([[0., 0., 0.],\n",
       "       [0., 0., 0.]])"
      ]
     },
     "execution_count": 23,
     "metadata": {},
     "output_type": "execute_result"
    }
   ],
   "source": [
    "np.zeros((2, 3))"
   ]
  },
  {
   "cell_type": "markdown",
   "id": "2b706879",
   "metadata": {
    "ExecuteTime": {
     "end_time": "2021-09-03T18:23:55.325762Z",
     "start_time": "2021-09-03T18:23:55.323011Z"
    }
   },
   "source": [
    "Массив из единиц:"
   ]
  },
  {
   "cell_type": "code",
   "execution_count": 25,
   "id": "d4321495",
   "metadata": {
    "ExecuteTime": {
     "end_time": "2021-09-03T18:24:18.193454Z",
     "start_time": "2021-09-03T18:24:18.189565Z"
    }
   },
   "outputs": [
    {
     "data": {
      "text/plain": [
       "array([[1., 1.],\n",
       "       [1., 1.],\n",
       "       [1., 1.]])"
      ]
     },
     "execution_count": 25,
     "metadata": {},
     "output_type": "execute_result"
    }
   ],
   "source": [
    "np.ones((3, 2))"
   ]
  },
  {
   "cell_type": "markdown",
   "id": "1cbadd4f",
   "metadata": {},
   "source": [
    "Единичная матрица:"
   ]
  },
  {
   "cell_type": "code",
   "execution_count": 26,
   "id": "ea910717",
   "metadata": {
    "ExecuteTime": {
     "end_time": "2021-09-03T18:24:46.968701Z",
     "start_time": "2021-09-03T18:24:46.964975Z"
    }
   },
   "outputs": [
    {
     "data": {
      "text/plain": [
       "array([[1., 0., 0., 0., 0.],\n",
       "       [0., 1., 0., 0., 0.],\n",
       "       [0., 0., 1., 0., 0.],\n",
       "       [0., 0., 0., 1., 0.],\n",
       "       [0., 0., 0., 0., 1.]])"
      ]
     },
     "execution_count": 26,
     "metadata": {},
     "output_type": "execute_result"
    }
   ],
   "source": [
    "np.identity(5)"
   ]
  },
  {
   "cell_type": "markdown",
   "id": "26f764f7",
   "metadata": {},
   "source": [
    "Массивы можно объединять:"
   ]
  },
  {
   "cell_type": "code",
   "execution_count": 33,
   "id": "6fa7c381",
   "metadata": {
    "ExecuteTime": {
     "end_time": "2021-09-03T18:27:00.939630Z",
     "start_time": "2021-09-03T18:27:00.936472Z"
    }
   },
   "outputs": [
    {
     "data": {
      "text/plain": [
       "array([[1, 2],\n",
       "       [3, 4],\n",
       "       [5, 6]])"
      ]
     },
     "execution_count": 33,
     "metadata": {},
     "output_type": "execute_result"
    }
   ],
   "source": [
    "vec"
   ]
  },
  {
   "cell_type": "code",
   "execution_count": 28,
   "id": "1db7ee57",
   "metadata": {
    "ExecuteTime": {
     "end_time": "2021-09-03T18:25:39.238455Z",
     "start_time": "2021-09-03T18:25:39.235403Z"
    }
   },
   "outputs": [
    {
     "data": {
      "text/plain": [
       "array([[1., 2., 0., 0.],\n",
       "       [3., 4., 0., 0.],\n",
       "       [5., 6., 0., 0.]])"
      ]
     },
     "execution_count": 28,
     "metadata": {},
     "output_type": "execute_result"
    }
   ],
   "source": [
    "np.hstack((vec, np.zeros(vec.shape)))"
   ]
  },
  {
   "cell_type": "code",
   "execution_count": 29,
   "id": "bb7c29d7",
   "metadata": {
    "ExecuteTime": {
     "end_time": "2021-09-03T18:25:39.560542Z",
     "start_time": "2021-09-03T18:25:39.557615Z"
    }
   },
   "outputs": [
    {
     "data": {
      "text/plain": [
       "array([[1., 2.],\n",
       "       [3., 4.],\n",
       "       [5., 6.],\n",
       "       [0., 0.],\n",
       "       [0., 0.],\n",
       "       [0., 0.]])"
      ]
     },
     "execution_count": 29,
     "metadata": {},
     "output_type": "execute_result"
    }
   ],
   "source": [
    "np.vstack((vec, np.zeros(vec.shape)))"
   ]
  },
  {
   "cell_type": "markdown",
   "id": "ef38c896",
   "metadata": {},
   "source": [
    "И, наконец - арифметические операции!"
   ]
  },
  {
   "cell_type": "code",
   "execution_count": 30,
   "id": "d73db567",
   "metadata": {
    "ExecuteTime": {
     "end_time": "2021-09-03T18:26:10.278319Z",
     "start_time": "2021-09-03T18:26:10.274329Z"
    }
   },
   "outputs": [
    {
     "data": {
      "text/plain": [
       "array([[ 0.84147098,  0.90929743],\n",
       "       [ 0.14112001, -0.7568025 ],\n",
       "       [-0.95892427, -0.2794155 ]])"
      ]
     },
     "execution_count": 30,
     "metadata": {},
     "output_type": "execute_result"
    }
   ],
   "source": [
    "vec + 1\n",
    "vec * 2\n",
    "vec ** 2\n",
    "vec + vec ** 2\n",
    "vec * vec ** 2\n",
    "np.sin(vec)"
   ]
  },
  {
   "cell_type": "code",
   "execution_count": null,
   "id": "b17f1b18",
   "metadata": {},
   "outputs": [],
   "source": []
  },
  {
   "cell_type": "code",
   "execution_count": 34,
   "id": "ab1edd6c",
   "metadata": {
    "ExecuteTime": {
     "end_time": "2021-09-03T18:27:24.581099Z",
     "start_time": "2021-09-03T18:27:24.577597Z"
    }
   },
   "outputs": [
    {
     "data": {
      "text/plain": [
       "array([[0],\n",
       "       [1],\n",
       "       [2]])"
      ]
     },
     "execution_count": 34,
     "metadata": {},
     "output_type": "execute_result"
    }
   ],
   "source": [
    "np.arange(3).reshape(3, 1)"
   ]
  },
  {
   "cell_type": "code",
   "execution_count": 35,
   "id": "42eeebec",
   "metadata": {
    "ExecuteTime": {
     "end_time": "2021-09-03T18:27:34.484068Z",
     "start_time": "2021-09-03T18:27:34.480153Z"
    }
   },
   "outputs": [
    {
     "data": {
      "text/plain": [
       "array([[1, 2],\n",
       "       [4, 5],\n",
       "       [7, 8]])"
      ]
     },
     "execution_count": 35,
     "metadata": {},
     "output_type": "execute_result"
    }
   ],
   "source": [
    "vec + np.arange(3).reshape(3, 1)"
   ]
  },
  {
   "cell_type": "markdown",
   "id": "24f86290",
   "metadata": {},
   "source": [
    "Генерация случайных чисел:"
   ]
  },
  {
   "cell_type": "code",
   "execution_count": 36,
   "id": "da0adb36",
   "metadata": {
    "ExecuteTime": {
     "end_time": "2021-09-03T18:28:07.909361Z",
     "start_time": "2021-09-03T18:28:07.903384Z"
    }
   },
   "outputs": [
    {
     "data": {
      "text/plain": [
       "array([8, 6, 8])"
      ]
     },
     "execution_count": 36,
     "metadata": {},
     "output_type": "execute_result"
    }
   ],
   "source": [
    "np.random.rand(2, 3)\n",
    "np.random.seed(2019)\n",
    "np.random.rand(2, 3)\n",
    "np.random.randn(3, 2)\n",
    "np.random.normal(2, 1, size=3)\n",
    "np.random.randint(5, 10, size=3)"
   ]
  },
  {
   "cell_type": "markdown",
   "id": "823860a0",
   "metadata": {},
   "source": [
    "Почему вообще используют numpy?"
   ]
  },
  {
   "cell_type": "code",
   "execution_count": 37,
   "id": "6ba5a7c7",
   "metadata": {
    "ExecuteTime": {
     "end_time": "2021-09-03T18:28:41.573659Z",
     "start_time": "2021-09-03T18:28:41.566421Z"
    }
   },
   "outputs": [
    {
     "name": "stderr",
     "output_type": "stream",
     "text": [
      "UsageError: Line magic function `%%time` not found.\n"
     ]
    }
   ],
   "source": [
    "n = 300\n",
    "A = np.random.rand(n, n)\n",
    "B = np.random.rand(n, n)\n",
    "%%time\n",
    "C = np.zeros((n, n))\n",
    "for i in range(n):\n",
    "    for j in range(n):\n",
    "        for k in range(n):\n",
    "            C[i, j] += A[i, k] * B[k, j]"
   ]
  },
  {
   "cell_type": "markdown",
   "id": "d9073db1",
   "metadata": {},
   "source": [
    "\n",
    "# Task 2"
   ]
  },
  {
   "cell_type": "markdown",
   "id": "a6b54d31",
   "metadata": {},
   "source": [
    "Задания для самостоятельного решения\n",
    "\n",
    "Развернуть одномерный массив (сделать так, чтобы его элементы шли в обратном порядке).\n",
    "\n",
    "Найти максимальный нечетный элемент в массиве.\n",
    "\n",
    "Замените все нечетные элементы массива на ваше любимое число.\n",
    "\n",
    "Создайте массив первых n нечетных чисел, записанных в порядке убывания. Например, если n=5, то ответом будет array([9, 7, 5, 3, 1]). \n",
    "\n",
    "Функции, которые могут пригодиться при решении: .arange()\n",
    "\n",
    "Вычислите самое близкое и самое дальнее числа к данному в рассматриваемом массиве чисел. Например, если на вход поступают массив array([0, 1, 2, 3, 4]) и число 1.33, то ответом будет (1, 4). Функции, которые могут пригодиться при решении: .abs(), .argmax(), .argmin()\n",
    "\n",
    "Вычисляющую первообразную заданного полинома (в качестве константы возьмите ваше любимое число). Например, если на вход поступает массив коэффициентов array([4, 6, 0, 1]), что соответствует полиному 4x3+6x2+1, на выходе получается массив коэффициентов array([1, 2, 0, 1, -2]), соответствующий полиному x4+2x3+x−2. Функции, которые могут пригодиться при решении: .append()\n",
    "Пользуясь пунктом 6, посчитайте первую производную для заданного полинома в заданной точке."
   ]
  },
  {
   "cell_type": "code",
   "execution_count": null,
   "id": "8402bba9",
   "metadata": {},
   "outputs": [],
   "source": []
  },
  {
   "cell_type": "code",
   "execution_count": null,
   "id": "c9e6f13f",
   "metadata": {},
   "outputs": [],
   "source": []
  }
 ],
 "metadata": {
  "kernelspec": {
   "display_name": "MTS",
   "language": "python",
   "name": "mts_library_recsys"
  },
  "language_info": {
   "codemirror_mode": {
    "name": "ipython",
    "version": 3
   },
   "file_extension": ".py",
   "mimetype": "text/x-python",
   "name": "python",
   "nbconvert_exporter": "python",
   "pygments_lexer": "ipython3",
   "version": "3.7.3"
  }
 },
 "nbformat": 4,
 "nbformat_minor": 5
}
